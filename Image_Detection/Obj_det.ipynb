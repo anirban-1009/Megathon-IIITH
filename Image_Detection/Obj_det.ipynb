{
 "cells": [
  {
   "cell_type": "markdown",
   "id": "a4f8a320",
   "metadata": {},
   "source": [
    "## Object Detection using Image AI\n",
    "\n",
    "    ImageAI is a python library built to empower developers, reseachers and students to build applications and systems with self-contained Deep Learning and Computer Vision capabilities using simple and few lines of code. "
   ]
  },
  {
   "cell_type": "code",
   "execution_count": null,
   "id": "e4661b09",
   "metadata": {},
   "outputs": [],
   "source": [
    "from imageai.Detection import ObjectDetection\n",
    "import os"
   ]
  },
  {
   "cell_type": "code",
   "execution_count": null,
   "id": "e3daae39",
   "metadata": {},
   "outputs": [],
   "source": [
    "def ObjectDet(filename):\n",
    "\n",
    "    detector = ObjectDetection()\n",
    "    detector.setModelTypeAsYOLOv3()\n",
    "    detector.setModelPath(os.path.join(execution_path, \"yolo.h5\"))\n",
    "\n",
    "    detector.loadModel()\n",
    "    detections = detector.detectObjectsFromImage(display_object_name=False, \n",
    "                                                 display_box=False, \n",
    "                                                 extract_detected_objects=True, \n",
    "                                                 display_percentage_probability=False,\n",
    "                                                 input_image=os.path.join(execution_path, filename), \n",
    "                                                 output_image_path = os.path.join(execution_path, \"output.jpg\"))"
   ]
  },
  {
   "cell_type": "markdown",
   "id": "abb9b8d5",
   "metadata": {},
   "source": [
    "!['alt text'](CHS-Bus-Stop-The-43.jpg)"
   ]
  },
  {
   "cell_type": "code",
   "execution_count": null,
   "id": "b03ae052",
   "metadata": {},
   "outputs": [],
   "source": [
    "ObjectDet(\"CHS-Bus-Stop-The-43.jpg\")"
   ]
  },
  {
   "cell_type": "markdown",
   "id": "87edfc5e",
   "metadata": {},
   "source": [
    "### bus\n",
    "![alt text](output.jpg-objects/bus-1.jpg \"bus\")\n",
    "### Hand bag\n",
    "![alt text](output.jpg-objects/handbag-6.jpg \"Hand bag\")\n",
    "### person\n",
    "![alt text](output.jpg-objects/person-2.jpg \"person 2\")"
   ]
  },
  {
   "cell_type": "markdown",
   "id": "db592a95",
   "metadata": {},
   "source": [
    "## Video Detection"
   ]
  },
  {
   "cell_type": "code",
   "execution_count": null,
   "id": "37d8a5f2",
   "metadata": {},
   "outputs": [],
   "source": [
    "execution_path = os.getcwd()\n",
    "\n",
    "\n",
    "detector = VideoObjectDetection()\n",
    "detector.setModelTypeAsRetinaNet()\n",
    "detector.setModelPath(os.path.join(execution_path, 'resnet50_coco_best_v2.1.0.h5'))\n",
    "detector.loadModel()"
   ]
  },
  {
   "cell_type": "code",
   "execution_count": null,
   "id": "b0bc6aff",
   "metadata": {},
   "outputs": [],
   "source": [
    "video_path = detector.detectObjectsFromVideo(input_file_path=os.path.join(execution_path, \"traffic.mp4\"),\n",
    "                                             output_file_path=os.path.join(execution_path, \"traffic_det\"), \n",
    "                                             frames_per_second=20, log_progress=True)"
   ]
  },
  {
   "cell_type": "markdown",
   "id": "113cf12c",
   "metadata": {},
   "source": [
    "## Video Analysis"
   ]
  },
  {
   "cell_type": "code",
   "execution_count": null,
   "id": "18a4318d",
   "metadata": {},
   "outputs": [],
   "source": [
    "from matplotlib import pyplot as plt\n",
    "\n",
    "\n",
    "execution_path = os.getcwd()\n",
    "\n",
    "color_index = {'bus': 'red', 'handbag': 'steelblue', 'giraffe': 'orange', 'spoon': 'gray', 'cup': 'yellow', 'chair': 'green', 'elephant': 'pink', 'truck': 'indigo', 'motorcycle': 'azure', 'refrigerator': 'gold', 'keyboard': 'violet', 'cow': 'magenta', 'mouse': 'crimson', 'sports ball': 'raspberry', 'horse': 'maroon', 'cat': 'orchid', 'boat': 'slateblue', 'hot dog': 'navy', 'apple': 'cobalt', 'parking meter': 'aliceblue', 'sandwich': 'skyblue', 'skis': 'deepskyblue', 'microwave': 'peacock', 'knife': 'cadetblue', 'baseball bat': 'cyan', 'oven': 'lightcyan', 'carrot': 'coldgrey', 'scissors': 'seagreen', 'sheep': 'deepgreen', 'toothbrush': 'cobaltgreen', 'fire hydrant': 'limegreen', 'remote': 'forestgreen', 'bicycle': 'olivedrab', 'toilet': 'ivory', 'tv': 'khaki', 'skateboard': 'palegoldenrod', 'train': 'cornsilk', 'zebra': 'wheat', 'tie': 'burlywood', 'orange': 'melon', 'bird': 'bisque', 'dining table': 'chocolate', 'hair drier': 'sandybrown', 'cell phone': 'sienna', 'sink': 'coral', 'bench': 'salmon', 'bottle': 'brown', 'car': 'silver', 'bowl': 'maroon', 'tennis racket': 'palevilotered', 'airplane': 'lavenderblush', 'pizza': 'hotpink', 'umbrella': 'deeppink', 'bear': 'plum', 'fork': 'purple', 'laptop': 'indigo', 'vase': 'mediumpurple', 'baseball glove': 'slateblue', 'traffic light': 'mediumblue', 'bed': 'navy', 'broccoli': 'royalblue', 'backpack': 'slategray', 'snowboard': 'skyblue', 'kite': 'cadetblue', 'teddy bear': 'peacock', 'clock': 'lightcyan', 'wine glass': 'teal', 'frisbee': 'aquamarine', 'donut': 'mincream', 'suitcase': 'seagreen', 'dog': 'springgreen', 'banana': 'emeraldgreen', 'person': 'honeydew', 'surfboard': 'palegreen', 'cake': 'sapgreen', 'book': 'lawngreen', 'potted plant': 'greenyellow', 'toaster': 'ivory', 'stop sign': 'beige', 'couch': 'khaki'}\n",
    "\n",
    "\n",
    "resized = False\n"
   ]
  },
  {
   "cell_type": "code",
   "execution_count": null,
   "id": "b61fdb1e",
   "metadata": {},
   "outputs": [],
   "source": [
    "def forFrame(frame_number, output_array, output_count, returned_frame):\n",
    "\n",
    "    plt.clf()\n",
    "\n",
    "    this_colors = []\n",
    "    labels = []\n",
    "    sizes = []\n",
    "\n",
    "    counter = 0\n",
    "\n",
    "    for eachItem in output_count:\n",
    "        counter += 1\n",
    "        labels.append(eachItem + \" = \" + str(output_count[eachItem]))\n",
    "        sizes.append(output_count[eachItem])\n",
    "        this_colors.append(color_index[eachItem])\n",
    "\n",
    "    global resized\n",
    "\n",
    "    if (resized == False):\n",
    "        manager = plt.get_current_fig_manager()\n",
    "        manager.resize(width=1000, height=500)\n",
    "        resized = True\n",
    "\n",
    "    plt.subplot(1, 2, 1)\n",
    "    plt.title(\"Frame : \" + str(frame_number))\n",
    "    plt.axis(\"off\")\n",
    "    plt.imshow(returned_frame, interpolation=\"none\")\n",
    "\n",
    "    plt.subplot(1, 2, 2)\n",
    "    plt.title(\"Analysis: \" + str(frame_number))\n",
    "    plt.pie(sizes, labels=labels, colors=this_colors, shadow=True, startangle=140, autopct=\"%1.1f%%\")\n",
    "\n",
    "    plt.pause(0.01)"
   ]
  },
  {
   "cell_type": "code",
   "execution_count": null,
   "id": "175eb007",
   "metadata": {},
   "outputs": [],
   "source": [
    "video_detector = VideoObjectDetection()\n",
    "video_detector.setModelTypeAsYOLOv3()\n",
    "video_detector.setModelPath(os.path.join(execution_path, \"yolo.h5\"))\n",
    "video_detector.loadModel()\n",
    "\n",
    "plt.show()\n",
    "\n",
    "video_detector.detectObjectsFromVideo(input_file_path=os.path.join(execution_path, \"traffic.mp4\"), \n",
    "                                      output_file_path=os.path.join(execution_path, \"video_frame_analysis\") ,  \n",
    "                                      frames_per_second=20,\n",
    "                                      per_frame_function=forFrame,\n",
    "                                      minimum_percentage_probability=30,\n",
    "                                      return_detected_frame=True)"
   ]
  },
  {
   "cell_type": "markdown",
   "id": "88b7ee86",
   "metadata": {},
   "source": [
    "![Alt Text](image5.gif)"
   ]
  }
 ],
 "metadata": {
  "kernelspec": {
   "display_name": "Python 3 (ipykernel)",
   "language": "python",
   "name": "python3"
  },
  "language_info": {
   "codemirror_mode": {
    "name": "ipython",
    "version": 3
   },
   "file_extension": ".py",
   "mimetype": "text/x-python",
   "name": "python",
   "nbconvert_exporter": "python",
   "pygments_lexer": "ipython3",
   "version": "3.8.10"
  },
  "vscode": {
   "interpreter": {
    "hash": "a78b2934b36c2405b16eda52749cf4bf96f7c37e9f481f602061e9cdbf6c2264"
   }
  }
 },
 "nbformat": 4,
 "nbformat_minor": 5
}
