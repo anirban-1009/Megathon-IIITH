{
 "cells": [
  {
   "cell_type": "markdown",
   "id": "c5186477",
   "metadata": {},
   "source": [
    "## Object Detection using Image AI\n",
    "\n",
    "    ImageAI is a python library built to empower developers, reseachers and students to build applications and systems with self-contained Deep Learning and Computer Vision capabilities using simple and few lines of code. "
   ]
  },
  {
   "cell_type": "code",
   "execution_count": null,
   "id": "4ab0a610",
   "metadata": {},
   "outputs": [],
   "source": []
  }
 ],
 "metadata": {
  "kernelspec": {
   "display_name": ".mgvenv",
   "language": "python",
   "name": ".mgvenv"
  },
  "language_info": {
   "codemirror_mode": {
    "name": "ipython",
    "version": 3
   },
   "file_extension": ".py",
   "mimetype": "text/x-python",
   "name": "python",
   "nbconvert_exporter": "python",
   "pygments_lexer": "ipython3",
   "version": "3.8.10"
  }
 },
 "nbformat": 4,
 "nbformat_minor": 5
}
