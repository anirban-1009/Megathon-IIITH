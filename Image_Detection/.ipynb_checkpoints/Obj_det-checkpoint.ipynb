{
 "cells": [
  {
   "cell_type": "markdown",
   "id": "a4f8a320",
   "metadata": {},
   "source": [
    "## Object Detection using Image AI\n",
    "\n",
    "    ImageAI is a python library built to empower developers, reseachers and students to build applications and systems with self-contained Deep Learning and Computer Vision capabilities using simple and few lines of code. "
   ]
  },
  {
   "cell_type": "code",
   "execution_count": null,
   "id": "e4661b09",
   "metadata": {},
   "outputs": [],
   "source": [
    "from imageai.Detection import ObjectDetection\n",
    "import os"
   ]
  },
  {
   "cell_type": "code",
   "execution_count": null,
   "id": "0ae32edf",
   "metadata": {},
   "outputs": [],
   "source": [
    "def ObjectDet(filename):\n",
    "\n",
    "    detector = ObjectDetection()\n",
    "    detector.setModelTypeAsYOLOv3()\n",
    "    detector.setModelPath(os.path.join(execution_path, \"yolo.h5\"))\n",
    "\n",
    "    detector.loadModel()\n",
    "    detections = detector.detectObjectsFromImage(display_object_name=False, \n",
    "                                                 display_box=False, \n",
    "                                                 extract_detected_objects=True, \n",
    "                                                 display_percentage_probability=False,\n",
    "                                                 input_image=os.path.join(execution_path, filename), \n",
    "                                                 output_image_path = os.path.join(execution_path, \"output.jpg\"))"
   ]
  }
 ],
 "metadata": {
  "kernelspec": {
   "display_name": "Python 3 (ipykernel)",
   "language": "python",
   "name": "python3"
  },
  "language_info": {
   "codemirror_mode": {
    "name": "ipython",
    "version": 3
   },
   "file_extension": ".py",
   "mimetype": "text/x-python",
   "name": "python",
   "nbconvert_exporter": "python",
   "pygments_lexer": "ipython3",
   "version": "3.8.10"
  },
  "vscode": {
   "interpreter": {
    "hash": "a78b2934b36c2405b16eda52749cf4bf96f7c37e9f481f602061e9cdbf6c2264"
   }
  }
 },
 "nbformat": 4,
 "nbformat_minor": 5
}
